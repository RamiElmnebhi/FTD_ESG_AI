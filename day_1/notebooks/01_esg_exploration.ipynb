{
 "cells": [
  {
   "cell_type": "markdown",
   "metadata": {},
   "source": [
    "# ESG Data Exploration\n",
    "\n",
    "This notebook introduces key ESG concepts and provides interactive examples for exploring ESG data.\n",
    "\n",
    "## 1. Understanding ESG Components\n",
    "\n",
    "ESG stands for Environmental, Social, and Governance:\n",
    "\n",
    "- **Environmental**: Climate change, carbon emissions, water usage, waste management\n",
    "- **Social**: Employee relations, diversity, human rights, community impact\n",
    "- **Governance**: Board composition, executive compensation, shareholder rights\n",
    "\n",
    "Let's explore these components in real ESG reports."
   ]
  },
  {
   "cell_type": "code",
   "execution_count": null,
   "metadata": {},
   "outputs": [],
   "source": [
    "import os\n",
    "import pandas as pd\n",
    "import matplotlib.pyplot as plt\n",
    "import seaborn as sns\n",
    "from wordcloud import WordCloud\n",
    "import pdfplumber\n",
    "import re\n",
    "from collections import Counter\n",
    "\n",
    "# Set style for better visualizations\n",
    "plt.style.use('seaborn')\n",
    "sns.set_palette('husl')"
   ]
  },
  {
   "cell_type": "markdown",
   "metadata": {},
   "source": [
    "## 2. ESG Keywords and Metrics\n",
    "\n",
    "Let's define some common ESG keywords to look for in reports:"
   ]
  },
  {
   "cell_type": "code",
   "execution_count": null,
   "metadata": {},
   "outputs": [],
   "source": [
    "esg_keywords = {\n",
    "    'environmental': [\n",
    "        'carbon emissions', 'climate change', 'renewable energy', 'waste management',\n",
    "        'water consumption', 'biodiversity', 'pollution', 'recycling'\n",
    "    ],\n",
    "    'social': [\n",
    "        'diversity', 'inclusion', 'human rights', 'employee safety', 'community',\n",
    "        'labor practices', 'data privacy', 'health'\n",
    "    ],\n",
    "    'governance': [\n",
    "        'board diversity', 'executive compensation', 'shareholder rights',\n",
    "        'ethics', 'compliance', 'transparency', 'risk management'\n",
    "    ]\n",
    "}"
   ]
  },
  {
   "cell_type": "markdown",
   "metadata": {},
   "source": [
    "## 3. Analyzing ESG Report Content\n",
    "\n",
    "Let's analyze our sample ESG report to see the frequency of ESG-related terms:"
   ]
  },
  {
   "cell_type": "code",
   "execution_count": null,
   "metadata": {},
   "outputs": [],
   "source": [
    "def analyze_esg_content(pdf_path):\n",
    "    \"\"\"Analyze ESG content in a PDF report.\"\"\"\n",
    "    # Extract text\n",
    "    with pdfplumber.open(pdf_path) as pdf:\n",
    "        text = '\\n'.join(page.extract_text() for page in pdf.pages)\n",
    "    \n",
    "    # Count ESG keywords\n",
    "    keyword_counts = {category: {} for category in esg_keywords}\n",
    "    for category, words in esg_keywords.items():\n",
    "        for word in words:\n",
    "            count = len(re.findall(word, text.lower()))\n",
    "            if count > 0:\n",
    "                keyword_counts[category][word] = count\n",
    "    \n",
    "    return keyword_counts\n",
    "\n",
    "# Path to your PDF file\n",
    "pdf_path = os.path.join('..', 'data', 'totalenergies_sustainability-climate-2024-progress-report_2024_en_pdf.pdf')\n",
    "\n",
    "# Analyze content if file exists\n",
    "if os.path.exists(pdf_path):\n",
    "    keyword_counts = analyze_esg_content(pdf_path)\n",
    "    \n",
    "    # Plot results\n",
    "    plt.figure(figsize=(15, 5))\n",
    "    for i, (category, counts) in enumerate(keyword_counts.items()):\n",
    "        plt.subplot(1, 3, i+1)\n",
    "        if counts:  # If we found any keywords\n",
    "            plt.bar(counts.keys(), counts.values())\n",
    "            plt.title(f'{category.capitalize()} Keywords')\n",
    "            plt.xticks(rotation=45, ha='right')\n",
    "    plt.tight_layout()\n",
    "    plt.show()\n",
    "else:\n",
    "    print(\"PDF file not found. Please check the path.\")"
   ]
  },
  {
   "cell_type": "markdown",
   "metadata": {},
   "source": [
    "## 4. Exercise: ESG Metric Extraction\n",
    "\n",
    "Try to extract specific ESG metrics from the report. Here's an example pattern to find carbon emission values:"
   ]
  },
  {
   "cell_type": "code",
   "execution_count": null,
   "metadata": {},
   "outputs": [],
   "source": [
    "def extract_carbon_metrics(text):\n",
    "    \"\"\"Extract carbon-related metrics from text.\"\"\"\n",
    "    # Pattern for numbers followed by CO2 or carbon dioxide\n",
    "    pattern = r'(\\d+(?:\\.\\d+)?)[\\s]*(?:CO2|carbon dioxide|tons of CO2)'\n",
    "    matches = re.finditer(pattern, text.lower())\n",
    "    return [match.group() for match in matches]\n",
    "\n",
    "# Example usage (if PDF exists)\n",
    "if os.path.exists(pdf_path):\n",
    "    with pdfplumber.open(pdf_path) as pdf:\n",
    "        text = '\\n'.join(page.extract_text() for page in pdf.pages)\n",
    "        carbon_metrics = extract_carbon_metrics(text)\n",
    "        print(\"Found carbon metrics:\")\n",
    "        for metric in carbon_metrics[:5]:  # Show first 5 matches\n",
    "            print(f\"- {metric}\")"
   ]
  },
  {
   "cell_type": "markdown",
   "metadata": {},
   "source": [
    "## 5. Practice Exercises\n",
    "\n",
    "Try these exercises to practice ESG data analysis:\n",
    "\n",
    "1. Create a function to extract diversity metrics (e.g., percentage of women in workforce)\n",
    "2. Generate a word cloud of governance-related terms\n",
    "3. Find mentions of specific ESG targets or goals\n",
    "\n",
    "Example solution for exercise 1:"
   ]
  },
  {
   "cell_type": "code",
   "execution_count": null,
   "metadata": {},
   "outputs": [],
   "source": [
    "def extract_diversity_metrics(text):\n",
    "    \"\"\"Extract diversity-related metrics from text.\"\"\"\n",
    "    # Pattern for percentages near diversity-related words\n",
    "    pattern = r'(\\d+(?:\\.\\d+)?%)[\\s]*(?:women|diverse|minority|representation)'\n",
    "    matches = re.finditer(pattern, text.lower())\n",
    "    return [match.group() for match in matches]\n",
    "\n",
    "# Your turn! Try implementing exercises 2 and 3"
   ]
  }
 ],
 "metadata": {
  "kernelspec": {
   "display_name": "Python 3",
   "language": "python",
   "name": "python3"
  },
  "language_info": {
   "name": "python",
   "version": "3.12.0"
  }
 },
 "nbformat": 4,
 "nbformat_minor": 2
} 