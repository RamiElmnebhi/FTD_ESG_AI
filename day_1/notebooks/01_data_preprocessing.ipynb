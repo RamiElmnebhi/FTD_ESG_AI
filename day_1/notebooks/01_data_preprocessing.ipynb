{
 "cells": [
  {
   "cell_type": "markdown",
   "metadata": {},
   "source": [
    "# ESG Report Data Preprocessing\n",
    "\n",
    "This notebook processes ESG reports from PDF format into cleaned text data for further analysis.\n",
    "\n",
    "## Setup\n",
    "First, we'll import the necessary libraries and download required NLTK resources."
   ]
  },
  {
   "cell_type": "code",
   "execution_count": null,
   "metadata": {},
   "outputs": [],
   "source": [
    "import os\n",
    "import pandas as pd\n",
    "import json\n",
    "import re\n",
    "import nltk\n",
    "import pdfplumber\n",
    "from tqdm import tqdm\n",
    "from nltk.tokenize import word_tokenize\n",
    "from nltk.corpus import stopwords\n",
    "\n",
    "# Download necessary resources\n",
    "nltk.download('punkt')\n",
    "nltk.download('stopwords')\n",
    "nltk.download('punkt_tab')"
   ]
  },
  {
   "cell_type": "markdown",
   "metadata": {},
   "source": [
    "## Configure Paths\n",
    "Set up the directory paths for input and output data."
   ]
  },
  {
   "cell_type": "code",
   "execution_count": null,
   "metadata": {},
   "outputs": [],
   "source": [
    "# Define paths\n",
    "notebook_dir = os.getcwd()\n",
    "project_root = os.path.dirname(os.path.dirname(notebook_dir))  # Go up two levels from notebooks dir\n",
    "data_dir = os.path.join(project_root, \"day_1\", \"data\")\n",
    "os.makedirs(data_dir, exist_ok=True)\n",
    "\n",
    "print(f\"Data directory: {data_dir}\")"
   ]
  },
  {
   "cell_type": "markdown",
   "metadata": {},
   "source": [
    "## Define Processing Functions\n",
    "These functions handle PDF text extraction and text cleaning."
   ]
  },
  {
   "cell_type": "code",
   "execution_count": null,
   "metadata": {},
   "outputs": [],
   "source": [
    "def extract_text_from_pdf(pdf_path):\n",
    "    \"\"\"Extract text from a PDF file.\"\"\"\n",
    "    text = \"\"\n",
    "    with pdfplumber.open(pdf_path) as pdf:\n",
    "        for page in pdf.pages:\n",
    "            text += page.extract_text() + \"\\n\"\n",
    "    return text\n",
    "\n",
    "def clean_text(text):\n",
    "    \"\"\"Clean and preprocess extracted text.\"\"\"\n",
    "    text = text.lower()\n",
    "    text = re.sub(r'\\s+', ' ', text)  # Remove extra spaces\n",
    "    text = re.sub(r'[^a-zA-Z0-9.,!?%€$]', ' ', text)  # Remove special characters\n",
    "    words = word_tokenize(text)\n",
    "    words = [word for word in words if word not in stopwords.words('english')]\n",
    "    return \" \".join(words)"
   ]
  },
  {
   "cell_type": "markdown",
   "metadata": {},
   "source": [
    "## Load Dataset\n",
    "Define the sample dataset with ESG report information."
   ]
  },
  {
   "cell_type": "code",
   "execution_count": null,
   "metadata": {},
   "outputs": [],
   "source": [
    "# Sample dataset (Placeholder: Replace with real ESG reports)\n",
    "data_sample = [\n",
    "    {\"company\": \"TotalEnergies\", \"year\": 2024, \"file\": \"totalenergies_sustainability-climate-2024-progress-report_2024_en_pdf.pdf\"},\n",
    "]\n",
    "\n",
    "dataframe = pd.DataFrame(data_sample)\n",
    "print(\"Sample ESG Dataset Loaded:\")\n",
    "display(dataframe)"
   ]
  },
  {
   "cell_type": "markdown",
   "metadata": {},
   "source": [
    "## Process Reports\n",
    "Define and run the main processing function."
   ]
  },
  {
   "cell_type": "code",
   "execution_count": null,
   "metadata": {},
   "outputs": [],
   "source": [
    "def process_esg_reports(dataframe, data_dir):\n",
    "    \"\"\"Process ESG reports from PDF to cleaned text.\"\"\"\n",
    "    processed_reports = []\n",
    "    for _, row in tqdm(dataframe.iterrows(), total=len(dataframe)):\n",
    "        file_path = os.path.join(data_dir, row[\"file\"])\n",
    "        print(f\"Attempting to read file: {file_path}\")\n",
    "        print(f\"File exists: {os.path.exists(file_path)}\")\n",
    "        \n",
    "        if os.path.exists(file_path):\n",
    "            print(f\"Reading PDF file...\")\n",
    "            raw_text = extract_text_from_pdf(file_path)\n",
    "            print(f\"Extracted text length: {len(raw_text)}\")\n",
    "            cleaned_text = clean_text(raw_text)\n",
    "            print(f\"Cleaned text length: {len(cleaned_text)}\")\n",
    "            processed_reports.append({\n",
    "                \"company\": row[\"company\"],\n",
    "                \"year\": row[\"year\"],\n",
    "                \"cleaned_text\": cleaned_text\n",
    "            })\n",
    "        else:\n",
    "            print(f\"File {file_path} not found!\")\n",
    "    return processed_reports\n",
    "\n",
    "# Process ESG reports\n",
    "processed_data = process_esg_reports(dataframe, data_dir)"
   ]
  },
  {
   "cell_type": "markdown",
   "metadata": {},
   "source": [
    "## Save Results\n",
    "Save the processed data to a JSON file."
   ]
  },
  {
   "cell_type": "code",
   "execution_count": null,
   "metadata": {},
   "outputs": [],
   "source": [
    "# Save as JSON\n",
    "output_path = os.path.join(data_dir, \"processed_esg_data.json\")\n",
    "with open(output_path, \"w\") as f:\n",
    "    json.dump(processed_data, f, indent=4)\n",
    "\n",
    "print(f\"Processing complete. Cleaned ESG data saved to {output_path}\")"
   ]
  }
 ],
 "metadata": {
  "kernelspec": {
   "display_name": "Python 3",
   "language": "python",
   "name": "python3"
  },
  "language_info": {
   "name": "python",
   "version": "3.12.0"
  }
 },
 "nbformat": 4,
 "nbformat_minor": 2
}