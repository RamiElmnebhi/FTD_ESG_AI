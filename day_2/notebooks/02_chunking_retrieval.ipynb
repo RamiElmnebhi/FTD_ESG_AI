{
 "cells": [
  {
   "cell_type": "markdown",
   "metadata": {},
   "source": [
    "# 📄 ESG AI Assistant - Day 2: Chunking & Retrieval\n",
    "\n",
    "This notebook handles **text chunking** and **embedding storage** for ESG reports.\n",
    "\n",
    "- **Step 1**: Extract text from ESG reports.\n",
    "- **Step 2**: Chunk text into smaller meaningful sections.\n",
    "- **Step 3**: Generate embeddings for chunks and store them in FAISS."
   ]
  },
  {
   "cell_type": "code",
   "execution_count": null,
   "metadata": {},
   "outputs": [],
   "source": [
    "import os\n",
    "import pdfplumber\n",
    "import nltk\n",
    "import json\n",
    "import faiss\n",
    "import numpy as np\n",
    "from tqdm import tqdm\n",
    "from sentence_transformers import SentenceTransformer\n",
    "\n",
    "# Download necessary resources\n",
    "nltk.download('punkt')\n",
    "\n",
    "# Define paths\n",
    "data_dir = \"day_2/data/\"\n",
    "os.makedirs(data_dir, exist_ok=True)"
   ]
  },
  {
   "cell_type": "code",
   "execution_count": null,
   "metadata": {},
   "outputs": [],
   "source": [
    "def extract_text_from_pdf(pdf_path):\n",
    "    text = \"\"\n",
    "    with pdfplumber.open(pdf_path) as pdf:\n",
    "        for page in pdf.pages:\n",
    "            text += page.extract_text() + \"\\n\"\n",
    "    return text\n",
    "\n",
    "def chunk_text(text, chunk_size=200):\n",
    "    sentences = nltk.sent_tokenize(text)\n",
    "    chunks = []\n",
    "    current_chunk = []\n",
    "    current_length = 0\n",
    "    for sentence in sentences:\n",
    "        current_chunk.append(sentence)\n",
    "        current_length += len(sentence.split())\n",
    "        if current_length >= chunk_size:\n",
    "            chunks.append(\" \\".join(current_chunk))\n",
    "            current_chunk = []\n",
    "            current_length = 0\n",
    "    if current_chunk:\n",
    "        chunks.append(\" \\".join(current_chunk))\n",
    "    return chunks"
   ]
  },
  {
   "cell_type": "code",
   "execution_count": null,
   "metadata": {},
   "outputs": [],
   "source": [
    "# Load dataset\n",
    "data_sample = [\n",
    "    {\"company\": \"TotalEnergies\", \"year\": 2024, \"file\": \"totalenergies_sustainability-climate-2024-progress-report_2024_en_pdf.pdf\"},\n",
    "]\n",
    "\n",
    "processed_chunks = []\n",
    "for entry in data_sample:\n",
    "    file_path = os.path.join(data_dir, entry['file'])\n",
    "    if os.path.exists(file_path):\n",
    "        raw_text = extract_text_from_pdf(file_path)\n",
    "        text_chunks = chunk_text(raw_text)\n",
    "        for chunk in text_chunks:\n",
    "            processed_chunks.append({\"company\": entry['company'], \"year\": entry['year'], \"chunk\": chunk})\n",
    "    else:\n",
    "        print(f\"File {file_path} not found!\")\n",
    "\n",
    "# Save chunked text\n",
    "with open(os.path.join(data_dir, \"processed_esg_chunks.json\"), \"w\") as f:\n",
    "    json.dump(processed_chunks, f, indent=4)"
   ]
  },
  {
   "cell_type": "code",
   "execution_count": null,
   "metadata": {},
   "outputs": [],
   "source": [
    "# Embedding Model\n",
    "model = SentenceTransformer('all-MiniLM-L6-v2')\n",
    "\n",
    "# Convert text chunks into embeddings\n",
    "text_chunks = [entry[\"chunk\"] for entry in processed_chunks]\n",
    "embeddings = model.encode(text_chunks, convert_to_numpy=True)\n",
    "\n",
    "# Store in FAISS\n",
    "dimension = embeddings.shape[1]\n",
    "index = faiss.IndexFlatL2(dimension)\n",
    "index.add(embeddings)\n",
    "faiss.write_index(index, os.path.join(data_dir, \"faiss_index.bin\"))\n",
    "\n",
    "print(\"Embedding storage complete. FAISS index saved.\")"
   ]
  }
 ],
 "metadata": {
  "kernelspec": {
   "display_name": "Python 3",
   "language": "python",
   "name": "python3"
  },
  "language_info": {
   "codemirror_mode": {
    "name": "ipython",
    "version": 3
   },
   "file_extension": ".py",
   "mimetype": "text/x-python",
   "name": "python",
   "nbconvert_exporter": "python",
   "pygments_lexer": "ipython3",
   "version": "3.8.10"
  }
 },
 "nbformat": 4,
 "nbformat_minor": 4
}
